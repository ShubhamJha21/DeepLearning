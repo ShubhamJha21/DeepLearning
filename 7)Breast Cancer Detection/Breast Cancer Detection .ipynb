{
 "cells": [
  {
   "cell_type": "markdown",
   "metadata": {},
   "source": [
    "### Breast Cancer Detection "
   ]
  },
  {
   "cell_type": "code",
   "execution_count": 1,
   "metadata": {},
   "outputs": [],
   "source": [
    "import numpy as np\n",
    "import pandas as pd\n",
    "import matplotlib.pyplot as plt"
   ]
  },
  {
   "cell_type": "code",
   "execution_count": 2,
   "metadata": {},
   "outputs": [],
   "source": [
    "import tensorflow as tf\n",
    "from tensorflow.keras import Sequential\n",
    "from tensorflow.keras.layers import Conv1D,MaxPool1D,Flatten,Dense,Dropout,BatchNormalization\n",
    "\n",
    "# import stochastic gradient descent(Adam optimizer)\n",
    "from tensorflow.keras.optimizers import Adam "
   ]
  },
  {
   "cell_type": "code",
   "execution_count": 3,
   "metadata": {},
   "outputs": [],
   "source": [
    "from sklearn.datasets import load_breast_cancer\n",
    "from sklearn.model_selection import train_test_split\n",
    "from sklearn.preprocessing import StandardScaler\n",
    "from sklearn import metrics"
   ]
  },
  {
   "cell_type": "code",
   "execution_count": 4,
   "metadata": {},
   "outputs": [],
   "source": [
    "cancer = load_breast_cancer()"
   ]
  },
  {
   "cell_type": "code",
   "execution_count": 5,
   "metadata": {},
   "outputs": [
    {
     "data": {
      "text/plain": [
       "dict_keys(['data', 'target', 'frame', 'target_names', 'DESCR', 'feature_names', 'filename'])"
      ]
     },
     "execution_count": 5,
     "metadata": {},
     "output_type": "execute_result"
    }
   ],
   "source": [
    "cancer.keys()"
   ]
  },
  {
   "cell_type": "code",
   "execution_count": 6,
   "metadata": {},
   "outputs": [
    {
     "name": "stdout",
     "output_type": "stream",
     "text": [
      ".. _breast_cancer_dataset:\n",
      "\n",
      "Breast cancer wisconsin (diagnostic) dataset\n",
      "--------------------------------------------\n",
      "\n",
      "**Data Set Characteristics:**\n",
      "\n",
      "    :Number of Instances: 569\n",
      "\n",
      "    :Number of Attributes: 30 numeric, predictive attributes and the class\n",
      "\n",
      "    :Attribute Information:\n",
      "        - radius (mean of distances from center to points on the perimeter)\n",
      "        - texture (standard deviation of gray-scale values)\n",
      "        - perimeter\n",
      "        - area\n",
      "        - smoothness (local variation in radius lengths)\n",
      "        - compactness (perimeter^2 / area - 1.0)\n",
      "        - concavity (severity of concave portions of the contour)\n",
      "        - concave points (number of concave portions of the contour)\n",
      "        - symmetry\n",
      "        - fractal dimension (\"coastline approximation\" - 1)\n",
      "\n",
      "        The mean, standard error, and \"worst\" or largest (mean of the three\n",
      "        worst/largest values) of these features were computed for each image,\n",
      "        resulting in 30 features.  For instance, field 0 is Mean Radius, field\n",
      "        10 is Radius SE, field 20 is Worst Radius.\n",
      "\n",
      "        - class:\n",
      "                - WDBC-Malignant\n",
      "                - WDBC-Benign\n",
      "\n",
      "    :Summary Statistics:\n",
      "\n",
      "    ===================================== ====== ======\n",
      "                                           Min    Max\n",
      "    ===================================== ====== ======\n",
      "    radius (mean):                        6.981  28.11\n",
      "    texture (mean):                       9.71   39.28\n",
      "    perimeter (mean):                     43.79  188.5\n",
      "    area (mean):                          143.5  2501.0\n",
      "    smoothness (mean):                    0.053  0.163\n",
      "    compactness (mean):                   0.019  0.345\n",
      "    concavity (mean):                     0.0    0.427\n",
      "    concave points (mean):                0.0    0.201\n",
      "    symmetry (mean):                      0.106  0.304\n",
      "    fractal dimension (mean):             0.05   0.097\n",
      "    radius (standard error):              0.112  2.873\n",
      "    texture (standard error):             0.36   4.885\n",
      "    perimeter (standard error):           0.757  21.98\n",
      "    area (standard error):                6.802  542.2\n",
      "    smoothness (standard error):          0.002  0.031\n",
      "    compactness (standard error):         0.002  0.135\n",
      "    concavity (standard error):           0.0    0.396\n",
      "    concave points (standard error):      0.0    0.053\n",
      "    symmetry (standard error):            0.008  0.079\n",
      "    fractal dimension (standard error):   0.001  0.03\n",
      "    radius (worst):                       7.93   36.04\n",
      "    texture (worst):                      12.02  49.54\n",
      "    perimeter (worst):                    50.41  251.2\n",
      "    area (worst):                         185.2  4254.0\n",
      "    smoothness (worst):                   0.071  0.223\n",
      "    compactness (worst):                  0.027  1.058\n",
      "    concavity (worst):                    0.0    1.252\n",
      "    concave points (worst):               0.0    0.291\n",
      "    symmetry (worst):                     0.156  0.664\n",
      "    fractal dimension (worst):            0.055  0.208\n",
      "    ===================================== ====== ======\n",
      "\n",
      "    :Missing Attribute Values: None\n",
      "\n",
      "    :Class Distribution: 212 - Malignant, 357 - Benign\n",
      "\n",
      "    :Creator:  Dr. William H. Wolberg, W. Nick Street, Olvi L. Mangasarian\n",
      "\n",
      "    :Donor: Nick Street\n",
      "\n",
      "    :Date: November, 1995\n",
      "\n",
      "This is a copy of UCI ML Breast Cancer Wisconsin (Diagnostic) datasets.\n",
      "https://goo.gl/U2Uwz2\n",
      "\n",
      "Features are computed from a digitized image of a fine needle\n",
      "aspirate (FNA) of a breast mass.  They describe\n",
      "characteristics of the cell nuclei present in the image.\n",
      "\n",
      "Separating plane described above was obtained using\n",
      "Multisurface Method-Tree (MSM-T) [K. P. Bennett, \"Decision Tree\n",
      "Construction Via Linear Programming.\" Proceedings of the 4th\n",
      "Midwest Artificial Intelligence and Cognitive Science Society,\n",
      "pp. 97-101, 1992], a classification method which uses linear\n",
      "programming to construct a decision tree.  Relevant features\n",
      "were selected using an exhaustive search in the space of 1-4\n",
      "features and 1-3 separating planes.\n",
      "\n",
      "The actual linear program used to obtain the separating plane\n",
      "in the 3-dimensional space is that described in:\n",
      "[K. P. Bennett and O. L. Mangasarian: \"Robust Linear\n",
      "Programming Discrimination of Two Linearly Inseparable Sets\",\n",
      "Optimization Methods and Software 1, 1992, 23-34].\n",
      "\n",
      "This database is also available through the UW CS ftp server:\n",
      "\n",
      "ftp ftp.cs.wisc.edu\n",
      "cd math-prog/cpo-dataset/machine-learn/WDBC/\n",
      "\n",
      ".. topic:: References\n",
      "\n",
      "   - W.N. Street, W.H. Wolberg and O.L. Mangasarian. Nuclear feature extraction \n",
      "     for breast tumor diagnosis. IS&T/SPIE 1993 International Symposium on \n",
      "     Electronic Imaging: Science and Technology, volume 1905, pages 861-870,\n",
      "     San Jose, CA, 1993.\n",
      "   - O.L. Mangasarian, W.N. Street and W.H. Wolberg. Breast cancer diagnosis and \n",
      "     prognosis via linear programming. Operations Research, 43(4), pages 570-577, \n",
      "     July-August 1995.\n",
      "   - W.H. Wolberg, W.N. Street, and O.L. Mangasarian. Machine learning techniques\n",
      "     to diagnose breast cancer from fine-needle aspirates. Cancer Letters 77 (1994) \n",
      "     163-171.\n"
     ]
    }
   ],
   "source": [
    "print(cancer.DESCR)"
   ]
  },
  {
   "cell_type": "code",
   "execution_count": 7,
   "metadata": {},
   "outputs": [],
   "source": [
    "X = pd.DataFrame(data=cancer.data,columns=cancer.feature_names)"
   ]
  },
  {
   "cell_type": "code",
   "execution_count": 8,
   "metadata": {},
   "outputs": [],
   "source": [
    "y = cancer.target"
   ]
  },
  {
   "cell_type": "code",
   "execution_count": 9,
   "metadata": {},
   "outputs": [
    {
     "data": {
      "text/plain": [
       "array(['malignant', 'benign'], dtype='<U9')"
      ]
     },
     "execution_count": 9,
     "metadata": {},
     "output_type": "execute_result"
    }
   ],
   "source": [
    "cancer.target_names"
   ]
  },
  {
   "cell_type": "code",
   "execution_count": 10,
   "metadata": {},
   "outputs": [],
   "source": [
    "X_train,X_test,y_train,y_test = train_test_split(X,y,test_size=0.20,random_state=0,stratify = y)"
   ]
  },
  {
   "cell_type": "code",
   "execution_count": 11,
   "metadata": {},
   "outputs": [
    {
     "data": {
      "text/plain": [
       "(455, 30)"
      ]
     },
     "execution_count": 11,
     "metadata": {},
     "output_type": "execute_result"
    }
   ],
   "source": [
    "X_train.shape"
   ]
  },
  {
   "cell_type": "code",
   "execution_count": 12,
   "metadata": {},
   "outputs": [
    {
     "data": {
      "text/plain": [
       "(114, 30)"
      ]
     },
     "execution_count": 12,
     "metadata": {},
     "output_type": "execute_result"
    }
   ],
   "source": [
    "X_test.shape"
   ]
  },
  {
   "cell_type": "code",
   "execution_count": 13,
   "metadata": {},
   "outputs": [],
   "source": [
    "# Standardization and conversion in to numpy form for reshape operation \n",
    "scaler = StandardScaler()\n",
    "X_train = scaler.fit_transform(X_train)\n",
    "X_test = scaler.transform(X_test)"
   ]
  },
  {
   "cell_type": "code",
   "execution_count": 14,
   "metadata": {},
   "outputs": [],
   "source": [
    "X_train = X_train.reshape(455,30,1)\n",
    "X_test = X_test.reshape(114,30,1)"
   ]
  },
  {
   "cell_type": "code",
   "execution_count": 15,
   "metadata": {},
   "outputs": [
    {
     "data": {
      "text/plain": [
       "(30, 1)"
      ]
     },
     "execution_count": 15,
     "metadata": {},
     "output_type": "execute_result"
    }
   ],
   "source": [
    "X_train[0].shape"
   ]
  },
  {
   "cell_type": "code",
   "execution_count": 16,
   "metadata": {},
   "outputs": [],
   "source": [
    "input_shape = X_train[0].shape"
   ]
  },
  {
   "cell_type": "code",
   "execution_count": 17,
   "metadata": {},
   "outputs": [],
   "source": [
    "model = Sequential()\n",
    "\n",
    "model.add(Conv1D(32,2,activation='relu',input_shape= input_shape))\n",
    "model.add(BatchNormalization())\n",
    "model.add(Dropout(0.20))\n",
    "\n",
    "model.add(Conv1D(64,2,activation='relu'))\n",
    "model.add(BatchNormalization())\n",
    "model.add(Dropout(0.50))\n",
    "\n",
    "# model.add(MaxPool1D(2))\n",
    "\n",
    "model.add(Flatten())\n",
    "model.add(Dense(64,activation='relu'))\n",
    "model.add(Dropout(0.50))\n",
    "\n",
    "model.add(Dense(1,activation='sigmoid'))"
   ]
  },
  {
   "cell_type": "code",
   "execution_count": 18,
   "metadata": {},
   "outputs": [
    {
     "name": "stdout",
     "output_type": "stream",
     "text": [
      "Model: \"sequential\"\n",
      "_________________________________________________________________\n",
      "Layer (type)                 Output Shape              Param #   \n",
      "=================================================================\n",
      "conv1d (Conv1D)              (None, 29, 32)            96        \n",
      "_________________________________________________________________\n",
      "batch_normalization (BatchNo (None, 29, 32)            128       \n",
      "_________________________________________________________________\n",
      "dropout (Dropout)            (None, 29, 32)            0         \n",
      "_________________________________________________________________\n",
      "conv1d_1 (Conv1D)            (None, 28, 64)            4160      \n",
      "_________________________________________________________________\n",
      "batch_normalization_1 (Batch (None, 28, 64)            256       \n",
      "_________________________________________________________________\n",
      "dropout_1 (Dropout)          (None, 28, 64)            0         \n",
      "_________________________________________________________________\n",
      "flatten (Flatten)            (None, 1792)              0         \n",
      "_________________________________________________________________\n",
      "dense (Dense)                (None, 64)                114752    \n",
      "_________________________________________________________________\n",
      "dropout_2 (Dropout)          (None, 64)                0         \n",
      "_________________________________________________________________\n",
      "dense_1 (Dense)              (None, 1)                 65        \n",
      "=================================================================\n",
      "Total params: 119,457\n",
      "Trainable params: 119,265\n",
      "Non-trainable params: 192\n",
      "_________________________________________________________________\n"
     ]
    }
   ],
   "source": [
    "model.summary()"
   ]
  },
  {
   "cell_type": "code",
   "execution_count": 20,
   "metadata": {},
   "outputs": [],
   "source": [
    "model.compile(loss='binary_crossentropy',optimizer=Adam(lr=0.00005),metrics=['accuracy'])"
   ]
  },
  {
   "cell_type": "code",
   "execution_count": 21,
   "metadata": {},
   "outputs": [
    {
     "name": "stdout",
     "output_type": "stream",
     "text": [
      "Train on 455 samples, validate on 114 samples\n",
      "Epoch 1/60\n",
      "455/455 [==============================] - 4s 9ms/sample - loss: 0.9326 - accuracy: 0.5758 - val_loss: 0.6654 - val_accuracy: 0.8070\n",
      "Epoch 2/60\n",
      "455/455 [==============================] - 0s 478us/sample - loss: 0.6796 - accuracy: 0.6791 - val_loss: 0.6316 - val_accuracy: 0.7895\n",
      "Epoch 3/60\n",
      "455/455 [==============================] - 0s 522us/sample - loss: 0.5526 - accuracy: 0.7385 - val_loss: 0.6005 - val_accuracy: 0.7632\n",
      "Epoch 4/60\n",
      "455/455 [==============================] - 0s 901us/sample - loss: 0.4621 - accuracy: 0.7978 - val_loss: 0.5731 - val_accuracy: 0.7368\n",
      "Epoch 5/60\n",
      "455/455 [==============================] - 0s 853us/sample - loss: 0.4185 - accuracy: 0.8176 - val_loss: 0.5490 - val_accuracy: 0.7368\n",
      "Epoch 6/60\n",
      "455/455 [==============================] - 0s 888us/sample - loss: 0.4001 - accuracy: 0.8264 - val_loss: 0.5267 - val_accuracy: 0.7193\n",
      "Epoch 7/60\n",
      "455/455 [==============================] - 0s 855us/sample - loss: 0.3822 - accuracy: 0.8549 - val_loss: 0.5060 - val_accuracy: 0.7193\n",
      "Epoch 8/60\n",
      "455/455 [==============================] - 0s 787us/sample - loss: 0.3590 - accuracy: 0.8462 - val_loss: 0.4876 - val_accuracy: 0.7281\n",
      "Epoch 9/60\n",
      "455/455 [==============================] - 0s 769us/sample - loss: 0.2797 - accuracy: 0.8923 - val_loss: 0.4686 - val_accuracy: 0.7632\n",
      "Epoch 10/60\n",
      "455/455 [==============================] - 0s 780us/sample - loss: 0.2980 - accuracy: 0.8923 - val_loss: 0.4507 - val_accuracy: 0.7632\n",
      "Epoch 11/60\n",
      "455/455 [==============================] - 0s 859us/sample - loss: 0.3063 - accuracy: 0.8725 - val_loss: 0.4305 - val_accuracy: 0.7895\n",
      "Epoch 12/60\n",
      "455/455 [==============================] - 0s 848us/sample - loss: 0.2488 - accuracy: 0.9077 - val_loss: 0.4115 - val_accuracy: 0.7895\n",
      "Epoch 13/60\n",
      "455/455 [==============================] - 0s 627us/sample - loss: 0.2333 - accuracy: 0.9099 - val_loss: 0.3899 - val_accuracy: 0.8070\n",
      "Epoch 14/60\n",
      "455/455 [==============================] - 0s 504us/sample - loss: 0.2268 - accuracy: 0.9121 - val_loss: 0.3682 - val_accuracy: 0.8333\n",
      "Epoch 15/60\n",
      "455/455 [==============================] - 0s 616us/sample - loss: 0.2437 - accuracy: 0.8989 - val_loss: 0.3488 - val_accuracy: 0.8421\n",
      "Epoch 16/60\n",
      "455/455 [==============================] - 0s 916us/sample - loss: 0.1845 - accuracy: 0.9099 - val_loss: 0.3263 - val_accuracy: 0.8596\n",
      "Epoch 17/60\n",
      "455/455 [==============================] - 0s 559us/sample - loss: 0.1794 - accuracy: 0.9319 - val_loss: 0.3055 - val_accuracy: 0.8596\n",
      "Epoch 18/60\n",
      "455/455 [==============================] - 0s 899us/sample - loss: 0.2149 - accuracy: 0.9231 - val_loss: 0.2817 - val_accuracy: 0.8684\n",
      "Epoch 19/60\n",
      "455/455 [==============================] - 0s 879us/sample - loss: 0.1998 - accuracy: 0.9231 - val_loss: 0.2619 - val_accuracy: 0.8772\n",
      "Epoch 20/60\n",
      "455/455 [==============================] - 0s 883us/sample - loss: 0.1955 - accuracy: 0.9297 - val_loss: 0.2440 - val_accuracy: 0.9035\n",
      "Epoch 21/60\n",
      "455/455 [==============================] - 0s 857us/sample - loss: 0.1429 - accuracy: 0.9451 - val_loss: 0.2283 - val_accuracy: 0.9211\n",
      "Epoch 22/60\n",
      "455/455 [==============================] - 0s 888us/sample - loss: 0.1457 - accuracy: 0.9319 - val_loss: 0.2127 - val_accuracy: 0.9298\n",
      "Epoch 23/60\n",
      "455/455 [==============================] - 0s 892us/sample - loss: 0.1722 - accuracy: 0.9209 - val_loss: 0.1984 - val_accuracy: 0.9298\n",
      "Epoch 24/60\n",
      "455/455 [==============================] - 0s 894us/sample - loss: 0.1734 - accuracy: 0.9275 - val_loss: 0.1833 - val_accuracy: 0.9474\n",
      "Epoch 25/60\n",
      "455/455 [==============================] - 0s 872us/sample - loss: 0.1948 - accuracy: 0.9099 - val_loss: 0.1691 - val_accuracy: 0.9474\n",
      "Epoch 26/60\n",
      "455/455 [==============================] - 0s 901us/sample - loss: 0.1798 - accuracy: 0.9319 - val_loss: 0.1591 - val_accuracy: 0.9561\n",
      "Epoch 27/60\n",
      "455/455 [==============================] - 0s 859us/sample - loss: 0.1222 - accuracy: 0.9516 - val_loss: 0.1488 - val_accuracy: 0.9561\n",
      "Epoch 28/60\n",
      "455/455 [==============================] - 0s 855us/sample - loss: 0.1347 - accuracy: 0.9385 - val_loss: 0.1417 - val_accuracy: 0.9561\n",
      "Epoch 29/60\n",
      "455/455 [==============================] - 0s 890us/sample - loss: 0.1403 - accuracy: 0.9407 - val_loss: 0.1343 - val_accuracy: 0.9561\n",
      "Epoch 30/60\n",
      "455/455 [==============================] - 0s 872us/sample - loss: 0.1408 - accuracy: 0.9451 - val_loss: 0.1287 - val_accuracy: 0.9561\n",
      "Epoch 31/60\n",
      "455/455 [==============================] - 0s 872us/sample - loss: 0.1205 - accuracy: 0.9341 - val_loss: 0.1252 - val_accuracy: 0.9649\n",
      "Epoch 32/60\n",
      "455/455 [==============================] - 0s 883us/sample - loss: 0.1398 - accuracy: 0.9495 - val_loss: 0.1207 - val_accuracy: 0.9649\n",
      "Epoch 33/60\n",
      "455/455 [==============================] - 0s 886us/sample - loss: 0.1488 - accuracy: 0.9451 - val_loss: 0.1179 - val_accuracy: 0.9737\n",
      "Epoch 34/60\n",
      "455/455 [==============================] - 0s 890us/sample - loss: 0.1131 - accuracy: 0.9582 - val_loss: 0.1150 - val_accuracy: 0.9737\n",
      "Epoch 35/60\n",
      "455/455 [==============================] - 0s 842us/sample - loss: 0.1892 - accuracy: 0.9319 - val_loss: 0.1131 - val_accuracy: 0.9737\n",
      "Epoch 36/60\n",
      "455/455 [==============================] - 0s 732us/sample - loss: 0.1446 - accuracy: 0.9516 - val_loss: 0.1107 - val_accuracy: 0.9737\n",
      "Epoch 37/60\n",
      "455/455 [==============================] - 0s 482us/sample - loss: 0.1083 - accuracy: 0.9473 - val_loss: 0.1093 - val_accuracy: 0.9737\n",
      "Epoch 38/60\n",
      "455/455 [==============================] - 0s 780us/sample - loss: 0.1306 - accuracy: 0.9495 - val_loss: 0.1077 - val_accuracy: 0.9737\n",
      "Epoch 39/60\n",
      "455/455 [==============================] - 0s 769us/sample - loss: 0.1489 - accuracy: 0.9385 - val_loss: 0.1053 - val_accuracy: 0.9737\n",
      "Epoch 40/60\n",
      "455/455 [==============================] - 0s 763us/sample - loss: 0.1043 - accuracy: 0.9538 - val_loss: 0.1044 - val_accuracy: 0.9737\n",
      "Epoch 41/60\n",
      "455/455 [==============================] - 0s 765us/sample - loss: 0.1134 - accuracy: 0.9582 - val_loss: 0.1034 - val_accuracy: 0.9737\n",
      "Epoch 42/60\n",
      "455/455 [==============================] - 0s 441us/sample - loss: 0.1194 - accuracy: 0.9516 - val_loss: 0.1028 - val_accuracy: 0.9737\n",
      "Epoch 43/60\n",
      "455/455 [==============================] - 0s 469us/sample - loss: 0.0960 - accuracy: 0.9604 - val_loss: 0.1015 - val_accuracy: 0.9737\n",
      "Epoch 44/60\n",
      "455/455 [==============================] - 0s 557us/sample - loss: 0.0962 - accuracy: 0.9604 - val_loss: 0.1017 - val_accuracy: 0.9737\n",
      "Epoch 45/60\n",
      "455/455 [==============================] - 0s 493us/sample - loss: 0.1114 - accuracy: 0.9516 - val_loss: 0.1017 - val_accuracy: 0.9737\n",
      "Epoch 46/60\n",
      "455/455 [==============================] - 0s 465us/sample - loss: 0.1425 - accuracy: 0.9516 - val_loss: 0.1016 - val_accuracy: 0.9737\n",
      "Epoch 47/60\n",
      "455/455 [==============================] - 0s 563us/sample - loss: 0.1058 - accuracy: 0.9582 - val_loss: 0.1015 - val_accuracy: 0.9649\n",
      "Epoch 48/60\n",
      "455/455 [==============================] - 0s 765us/sample - loss: 0.1418 - accuracy: 0.9473 - val_loss: 0.1016 - val_accuracy: 0.9561\n",
      "Epoch 49/60\n",
      "455/455 [==============================] - 0s 785us/sample - loss: 0.1239 - accuracy: 0.9385 - val_loss: 0.1009 - val_accuracy: 0.9561\n",
      "Epoch 50/60\n",
      "455/455 [==============================] - 0s 774us/sample - loss: 0.1303 - accuracy: 0.9516 - val_loss: 0.1006 - val_accuracy: 0.9561\n",
      "Epoch 51/60\n",
      "455/455 [==============================] - 0s 769us/sample - loss: 0.0994 - accuracy: 0.9582 - val_loss: 0.0997 - val_accuracy: 0.9561\n",
      "Epoch 52/60\n",
      "455/455 [==============================] - 0s 774us/sample - loss: 0.1407 - accuracy: 0.9451 - val_loss: 0.0989 - val_accuracy: 0.9649\n",
      "Epoch 53/60\n",
      "455/455 [==============================] - 0s 732us/sample - loss: 0.1251 - accuracy: 0.9582 - val_loss: 0.0974 - val_accuracy: 0.9649\n",
      "Epoch 54/60\n",
      "455/455 [==============================] - 0s 481us/sample - loss: 0.1118 - accuracy: 0.9495 - val_loss: 0.0974 - val_accuracy: 0.9649\n",
      "Epoch 55/60\n",
      "455/455 [==============================] - 0s 454us/sample - loss: 0.1379 - accuracy: 0.9451 - val_loss: 0.0960 - val_accuracy: 0.9561\n",
      "Epoch 56/60\n"
     ]
    },
    {
     "name": "stdout",
     "output_type": "stream",
     "text": [
      "455/455 [==============================] - 0s 502us/sample - loss: 0.1068 - accuracy: 0.9626 - val_loss: 0.0949 - val_accuracy: 0.9561\n",
      "Epoch 57/60\n",
      "455/455 [==============================] - 0s 758us/sample - loss: 0.1044 - accuracy: 0.9648 - val_loss: 0.0946 - val_accuracy: 0.9561\n",
      "Epoch 58/60\n",
      "455/455 [==============================] - 0s 730us/sample - loss: 0.1189 - accuracy: 0.9538 - val_loss: 0.0948 - val_accuracy: 0.9649\n",
      "Epoch 59/60\n",
      "455/455 [==============================] - 0s 726us/sample - loss: 0.1031 - accuracy: 0.9648 - val_loss: 0.0948 - val_accuracy: 0.9737\n",
      "Epoch 60/60\n",
      "455/455 [==============================] - 0s 741us/sample - loss: 0.1225 - accuracy: 0.9495 - val_loss: 0.0942 - val_accuracy: 0.9649\n"
     ]
    }
   ],
   "source": [
    "history = model.fit(X_train,y_train,epochs=60,validation_data=(X_test,y_test),verbose=1)"
   ]
  },
  {
   "cell_type": "code",
   "execution_count": 22,
   "metadata": {},
   "outputs": [
    {
     "data": {
      "text/plain": [
       "{'loss': [0.9326103965004722,\n",
       "  0.6796465880268223,\n",
       "  0.5526178458234766,\n",
       "  0.4621454762888479,\n",
       "  0.4184754898259928,\n",
       "  0.4000554961326358,\n",
       "  0.382185697555542,\n",
       "  0.35901238055347084,\n",
       "  0.27967308586115364,\n",
       "  0.2979996220096127,\n",
       "  0.3062801199954945,\n",
       "  0.24880232074103512,\n",
       "  0.2332849065026084,\n",
       "  0.226788785136663,\n",
       "  0.24367258561836494,\n",
       "  0.1845421245464912,\n",
       "  0.17939902858419732,\n",
       "  0.21485170216842012,\n",
       "  0.1997598558664322,\n",
       "  0.19551060658234817,\n",
       "  0.14286710241666206,\n",
       "  0.14573329560213036,\n",
       "  0.17218878531808054,\n",
       "  0.17337887084091103,\n",
       "  0.19482458918304232,\n",
       "  0.17979682173047748,\n",
       "  0.12224972107253232,\n",
       "  0.13468138956270376,\n",
       "  0.14027005369355391,\n",
       "  0.14083971767635137,\n",
       "  0.12050665279666146,\n",
       "  0.1397865917820197,\n",
       "  0.14878178861115005,\n",
       "  0.11307230420451571,\n",
       "  0.18917410629136222,\n",
       "  0.14455525894741436,\n",
       "  0.10827034179192896,\n",
       "  0.13057507158635737,\n",
       "  0.14886179664632776,\n",
       "  0.10432208408038694,\n",
       "  0.11336448971223045,\n",
       "  0.11939997227637322,\n",
       "  0.09604730442330077,\n",
       "  0.09617054532026197,\n",
       "  0.11137890172201198,\n",
       "  0.14247641975244324,\n",
       "  0.1058049792444313,\n",
       "  0.14176980257034302,\n",
       "  0.1239036839741927,\n",
       "  0.1303092883510904,\n",
       "  0.09940763325481625,\n",
       "  0.14068170962752877,\n",
       "  0.12509824063751723,\n",
       "  0.11178726979664394,\n",
       "  0.13791208446517095,\n",
       "  0.10677656190735953,\n",
       "  0.1044395156122826,\n",
       "  0.11892069368367339,\n",
       "  0.1031305826586354,\n",
       "  0.12250041221524333],\n",
       " 'accuracy': [0.5758242,\n",
       "  0.6791209,\n",
       "  0.73846155,\n",
       "  0.7978022,\n",
       "  0.8175824,\n",
       "  0.82637364,\n",
       "  0.85494506,\n",
       "  0.84615386,\n",
       "  0.8923077,\n",
       "  0.8923077,\n",
       "  0.8725275,\n",
       "  0.9076923,\n",
       "  0.9098901,\n",
       "  0.9120879,\n",
       "  0.8989011,\n",
       "  0.9098901,\n",
       "  0.93186814,\n",
       "  0.9230769,\n",
       "  0.9230769,\n",
       "  0.92967033,\n",
       "  0.94505495,\n",
       "  0.93186814,\n",
       "  0.9208791,\n",
       "  0.92747253,\n",
       "  0.9098901,\n",
       "  0.93186814,\n",
       "  0.95164835,\n",
       "  0.93846154,\n",
       "  0.94065934,\n",
       "  0.94505495,\n",
       "  0.93406594,\n",
       "  0.94945055,\n",
       "  0.94505495,\n",
       "  0.95824176,\n",
       "  0.93186814,\n",
       "  0.95164835,\n",
       "  0.94725275,\n",
       "  0.94945055,\n",
       "  0.93846154,\n",
       "  0.95384616,\n",
       "  0.95824176,\n",
       "  0.95164835,\n",
       "  0.96043956,\n",
       "  0.96043956,\n",
       "  0.95164835,\n",
       "  0.95164835,\n",
       "  0.95824176,\n",
       "  0.94725275,\n",
       "  0.93846154,\n",
       "  0.95164835,\n",
       "  0.95824176,\n",
       "  0.94505495,\n",
       "  0.95824176,\n",
       "  0.94945055,\n",
       "  0.94505495,\n",
       "  0.96263736,\n",
       "  0.96483517,\n",
       "  0.95384616,\n",
       "  0.96483517,\n",
       "  0.94945055],\n",
       " 'val_loss': [0.6654191414515177,\n",
       "  0.6316070922634058,\n",
       "  0.6005125924160606,\n",
       "  0.5731080456783897,\n",
       "  0.5489757970759743,\n",
       "  0.5267122586568197,\n",
       "  0.5060071558283087,\n",
       "  0.4876470178888555,\n",
       "  0.4686120016533032,\n",
       "  0.4507282569743039,\n",
       "  0.4305302819661927,\n",
       "  0.4115125604888849,\n",
       "  0.38987585013372855,\n",
       "  0.3681656064694388,\n",
       "  0.34881905453246936,\n",
       "  0.3262877736175269,\n",
       "  0.30546509905865316,\n",
       "  0.28165033930226374,\n",
       "  0.2618701567775325,\n",
       "  0.24400780650607326,\n",
       "  0.22830423765015184,\n",
       "  0.2127075705089067,\n",
       "  0.19841023443038003,\n",
       "  0.18330676200097068,\n",
       "  0.16905122158820168,\n",
       "  0.15908944188502797,\n",
       "  0.14875997968933038,\n",
       "  0.1416742840879842,\n",
       "  0.1342648540933927,\n",
       "  0.12873271434453495,\n",
       "  0.12523058331326434,\n",
       "  0.12070034927966301,\n",
       "  0.11785880423951567,\n",
       "  0.1149898002152903,\n",
       "  0.11312944768813618,\n",
       "  0.11069098069218167,\n",
       "  0.10926617034956028,\n",
       "  0.10772594214792837,\n",
       "  0.10526169957429693,\n",
       "  0.10444062317541816,\n",
       "  0.10338404820415012,\n",
       "  0.10280904183654409,\n",
       "  0.10151999747674716,\n",
       "  0.10165466678639253,\n",
       "  0.10169351506128646,\n",
       "  0.10164120747593411,\n",
       "  0.10153777501954321,\n",
       "  0.10156147459750636,\n",
       "  0.10087678904988263,\n",
       "  0.1006218586443809,\n",
       "  0.09965509963793713,\n",
       "  0.09885248914361,\n",
       "  0.09742645357261624,\n",
       "  0.09738600090668913,\n",
       "  0.09601976546017747,\n",
       "  0.09493091607695087,\n",
       "  0.09462057253378525,\n",
       "  0.09483956365862437,\n",
       "  0.09484188096891892,\n",
       "  0.09420985904963393],\n",
       " 'val_accuracy': [0.80701756,\n",
       "  0.7894737,\n",
       "  0.7631579,\n",
       "  0.7368421,\n",
       "  0.7368421,\n",
       "  0.71929824,\n",
       "  0.71929824,\n",
       "  0.7280702,\n",
       "  0.7631579,\n",
       "  0.7631579,\n",
       "  0.7894737,\n",
       "  0.7894737,\n",
       "  0.80701756,\n",
       "  0.8333333,\n",
       "  0.84210527,\n",
       "  0.8596491,\n",
       "  0.8596491,\n",
       "  0.8684211,\n",
       "  0.877193,\n",
       "  0.9035088,\n",
       "  0.92105263,\n",
       "  0.9298246,\n",
       "  0.9298246,\n",
       "  0.94736844,\n",
       "  0.94736844,\n",
       "  0.95614034,\n",
       "  0.95614034,\n",
       "  0.95614034,\n",
       "  0.95614034,\n",
       "  0.95614034,\n",
       "  0.9649123,\n",
       "  0.9649123,\n",
       "  0.9736842,\n",
       "  0.9736842,\n",
       "  0.9736842,\n",
       "  0.9736842,\n",
       "  0.9736842,\n",
       "  0.9736842,\n",
       "  0.9736842,\n",
       "  0.9736842,\n",
       "  0.9736842,\n",
       "  0.9736842,\n",
       "  0.9736842,\n",
       "  0.9736842,\n",
       "  0.9736842,\n",
       "  0.9736842,\n",
       "  0.9649123,\n",
       "  0.95614034,\n",
       "  0.95614034,\n",
       "  0.95614034,\n",
       "  0.95614034,\n",
       "  0.9649123,\n",
       "  0.9649123,\n",
       "  0.9649123,\n",
       "  0.95614034,\n",
       "  0.95614034,\n",
       "  0.95614034,\n",
       "  0.9649123,\n",
       "  0.9736842,\n",
       "  0.9649123]}"
      ]
     },
     "execution_count": 22,
     "metadata": {},
     "output_type": "execute_result"
    }
   ],
   "source": [
    "history.history"
   ]
  },
  {
   "cell_type": "code",
   "execution_count": 23,
   "metadata": {},
   "outputs": [
    {
     "data": {
      "image/png": "[encoded data removed]",
      "text/plain": [
       "<Figure size 432x288 with 1 Axes>"
      ]
     },
     "metadata": {
      "needs_background": "light"
     },
     "output_type": "display_data"
    },
    {
     "data": {
      "text/plain": [
       "<matplotlib.legend.Legend at 0x27d44f0b9c8>"
      ]
     },
     "execution_count": 23,
     "metadata": {},
     "output_type": "execute_result"
    },
    {
     "data": {
      "image/png": "[encoded data removed]",
      "text/plain": [
       "<Figure size 432x288 with 1 Axes>"
      ]
     },
     "metadata": {
      "needs_background": "light"
     },
     "output_type": "display_data"
    }
   ],
   "source": [
    "# ploting training and validation accuracy\n",
    "epochs = range(1,61)\n",
    "plt.plot(epochs,history.history['accuracy'])\n",
    "plt.plot(epochs,history.history['val_accuracy'])\n",
    "plt.title('Model_accuracy')\n",
    "plt.ylabel('Accuracy')\n",
    "plt.xlabel('eopoch')\n",
    "plt.legend(['Train','Val'],loc='upper left')\n",
    "plt.show()\n",
    "\n",
    "# ploting training and validation loss\n",
    "plt.plot(epochs,history.history['loss'])\n",
    "plt.plot(epochs,history.history['val_loss'])\n",
    "plt.title('Model loss')\n",
    "plt.xlabel('epoch')\n",
    "plt.ylabel('Loss')\n",
    "plt.legend(['loss','val_loss'],loc='upper right')"
   ]
  },
  {
   "cell_type": "code",
   "execution_count": 24,
   "metadata": {},
   "outputs": [
    {
     "name": "stdout",
     "output_type": "stream",
     "text": [
      "114/114 [==============================] - 0s 184us/sample - loss: 0.0942 - accuracy: 0.9649\n"
     ]
    },
    {
     "data": {
      "text/plain": [
       "[0.09420985904963393, 0.9649123]"
      ]
     },
     "execution_count": 24,
     "metadata": {},
     "output_type": "execute_result"
    }
   ],
   "source": [
    "model.evaluate(X_test,y_test)"
   ]
  },
  {
   "cell_type": "code",
   "execution_count": 25,
   "metadata": {},
   "outputs": [
    {
     "name": "stdout",
     "output_type": "stream",
     "text": [
      "2.1.0\n"
     ]
    }
   ],
   "source": [
    "print(tf.__version__)"
   ]
  }
 ],
 "metadata": {
  "kernelspec": {
   "display_name": "Python 3",
   "language": "python",
   "name": "python3"
  },
  "language_info": {
   "codemirror_mode": {
    "name": "ipython",
    "version": 3
   },
   "file_extension": ".py",
   "mimetype": "text/x-python",
   "name": "python",
   "nbconvert_exporter": "python",
   "pygments_lexer": "ipython3",
   "version": "3.7.7"
  }
 },
 "nbformat": 4,
 "nbformat_minor": 4
}
