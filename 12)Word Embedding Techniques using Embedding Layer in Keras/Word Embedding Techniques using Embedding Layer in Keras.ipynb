{
 "cells": [
  {
   "cell_type": "markdown",
   "metadata": {},
   "source": [
    "## Word Embedding Techniques using Embedding Layer in Keras"
   ]
  },
  {
   "cell_type": "code",
   "execution_count": 1,
   "metadata": {},
   "outputs": [],
   "source": [
    "# Libraries used  in tensorflow 2.x"
   ]
  },
  {
   "cell_type": "code",
   "execution_count": 2,
   "metadata": {},
   "outputs": [],
   "source": [
    "from tensorflow.keras.preprocessing.text import one_hot"
   ]
  },
  {
   "cell_type": "code",
   "execution_count": 3,
   "metadata": {},
   "outputs": [],
   "source": [
    "# Sentences\n",
    "sent = ['hi this is Shubham jha',\n",
    "       'I am 23 year old guy',\n",
    "       'I am from Bihar madhubani',\n",
    "       'I live in kota rajathan']"
   ]
  },
  {
   "cell_type": "code",
   "execution_count": 4,
   "metadata": {},
   "outputs": [
    {
     "data": {
      "text/plain": [
       "['hi this is Shubham jha',\n",
       " 'I am 23 year old guy',\n",
       " 'I am from Bihar madhubani',\n",
       " 'I live in kota rajathan']"
      ]
     },
     "execution_count": 4,
     "metadata": {},
     "output_type": "execute_result"
    }
   ],
   "source": [
    "sent"
   ]
  },
  {
   "cell_type": "code",
   "execution_count": 5,
   "metadata": {},
   "outputs": [],
   "source": [
    "## Set voc_size \n",
    "voc_size = 10000"
   ]
  },
  {
   "cell_type": "markdown",
   "metadata": {},
   "source": [
    "### One Hot representation"
   ]
  },
  {
   "cell_type": "code",
   "execution_count": 6,
   "metadata": {},
   "outputs": [
    {
     "name": "stdout",
     "output_type": "stream",
     "text": [
      "[[103, 6268, 8146, 2536, 1213], [4510, 5202, 9700, 4246, 430, 8362], [4510, 5202, 9883, 6421, 6050], [4510, 1642, 9733, 2505, 6093]]\n"
     ]
    }
   ],
   "source": [
    "onehot_repr = [one_hot(words,voc_size)for words in sent]\n",
    "print(onehot_repr)"
   ]
  },
  {
   "cell_type": "markdown",
   "metadata": {},
   "source": [
    "### Word Embedding Representation"
   ]
  },
  {
   "cell_type": "code",
   "execution_count": 7,
   "metadata": {},
   "outputs": [],
   "source": [
    "from tensorflow.keras.layers import Embedding\n",
    "from tensorflow.keras.preprocessing.sequence import pad_sequences\n",
    "from tensorflow.keras.models import Sequential"
   ]
  },
  {
   "cell_type": "code",
   "execution_count": 8,
   "metadata": {},
   "outputs": [],
   "source": [
    "import numpy as np"
   ]
  },
  {
   "cell_type": "code",
   "execution_count": 9,
   "metadata": {},
   "outputs": [
    {
     "name": "stdout",
     "output_type": "stream",
     "text": [
      "[[   0    0    0  103 6268 8146 2536 1213]\n",
      " [   0    0 4510 5202 9700 4246  430 8362]\n",
      " [   0    0    0 4510 5202 9883 6421 6050]\n",
      " [   0    0    0 4510 1642 9733 2505 6093]]\n"
     ]
    }
   ],
   "source": [
    "# reshape in same length to all characters\n",
    "sent_length = 8\n",
    "embedded_values = pad_sequences(onehot_repr,padding='pre',maxlen=sent_length)\n",
    "print(embedded_values)"
   ]
  },
  {
   "cell_type": "code",
   "execution_count": 10,
   "metadata": {},
   "outputs": [],
   "source": [
    "dim = 10"
   ]
  },
  {
   "cell_type": "code",
   "execution_count": 11,
   "metadata": {},
   "outputs": [],
   "source": [
    "model = Sequential()\n",
    "model.add(Embedding(voc_size,dim,input_length=sent_length))"
   ]
  },
  {
   "cell_type": "code",
   "execution_count": 12,
   "metadata": {},
   "outputs": [
    {
     "name": "stdout",
     "output_type": "stream",
     "text": [
      "Model: \"sequential\"\n",
      "_________________________________________________________________\n",
      "Layer (type)                 Output Shape              Param #   \n",
      "=================================================================\n",
      "embedding (Embedding)        (None, 8, 10)             100000    \n",
      "=================================================================\n",
      "Total params: 100,000\n",
      "Trainable params: 100,000\n",
      "Non-trainable params: 0\n",
      "_________________________________________________________________\n"
     ]
    }
   ],
   "source": [
    "model.summary()"
   ]
  },
  {
   "cell_type": "code",
   "execution_count": 13,
   "metadata": {},
   "outputs": [],
   "source": [
    "model.compile('adam','mse')"
   ]
  },
  {
   "cell_type": "code",
   "execution_count": 14,
   "metadata": {},
   "outputs": [
    {
     "name": "stdout",
     "output_type": "stream",
     "text": [
      "Model: \"sequential\"\n",
      "_________________________________________________________________\n",
      "Layer (type)                 Output Shape              Param #   \n",
      "=================================================================\n",
      "embedding (Embedding)        (None, 8, 10)             100000    \n",
      "=================================================================\n",
      "Total params: 100,000\n",
      "Trainable params: 100,000\n",
      "Non-trainable params: 0\n",
      "_________________________________________________________________\n"
     ]
    }
   ],
   "source": [
    "model.summary()"
   ]
  },
  {
   "cell_type": "code",
   "execution_count": 15,
   "metadata": {},
   "outputs": [
    {
     "data": {
      "text/plain": [
       "array([[[-0.03491072, -0.03902986, -0.01752711,  0.04510926,\n",
       "          0.02649695, -0.04145315, -0.00436689, -0.04637349,\n",
       "          0.03674043, -0.02549165],\n",
       "        [-0.03491072, -0.03902986, -0.01752711,  0.04510926,\n",
       "          0.02649695, -0.04145315, -0.00436689, -0.04637349,\n",
       "          0.03674043, -0.02549165],\n",
       "        [-0.03491072, -0.03902986, -0.01752711,  0.04510926,\n",
       "          0.02649695, -0.04145315, -0.00436689, -0.04637349,\n",
       "          0.03674043, -0.02549165],\n",
       "        [ 0.03554502,  0.00405333,  0.04036378, -0.04457144,\n",
       "         -0.01359695, -0.00619979, -0.02678922,  0.00802074,\n",
       "         -0.0024282 ,  0.04488332],\n",
       "        [-0.00296807, -0.01828475, -0.01821804, -0.01454581,\n",
       "          0.00625868, -0.02196404,  0.01091263,  0.04485265,\n",
       "          0.04419329,  0.0426516 ],\n",
       "        [ 0.02838298,  0.03548601, -0.01416143,  0.01287091,\n",
       "         -0.01987321, -0.02983977, -0.0052244 ,  0.00914057,\n",
       "          0.00621306, -0.01302276],\n",
       "        [ 0.0279713 , -0.00348071, -0.02627986, -0.00127708,\n",
       "         -0.03710466, -0.01689322,  0.02454333, -0.016068  ,\n",
       "          0.00926787, -0.0359463 ],\n",
       "        [-0.01797067, -0.00046467,  0.04183299, -0.04518082,\n",
       "         -0.00239559,  0.02565301, -0.01558696, -0.00721701,\n",
       "          0.03224641,  0.03566885]],\n",
       "\n",
       "       [[-0.03491072, -0.03902986, -0.01752711,  0.04510926,\n",
       "          0.02649695, -0.04145315, -0.00436689, -0.04637349,\n",
       "          0.03674043, -0.02549165],\n",
       "        [-0.03491072, -0.03902986, -0.01752711,  0.04510926,\n",
       "          0.02649695, -0.04145315, -0.00436689, -0.04637349,\n",
       "          0.03674043, -0.02549165],\n",
       "        [-0.02556586,  0.0439504 , -0.00703488, -0.04979176,\n",
       "         -0.03597804, -0.04008849, -0.01138606, -0.02259123,\n",
       "         -0.02635129,  0.03970777],\n",
       "        [ 0.01235573, -0.020302  , -0.00867579, -0.03489566,\n",
       "          0.03038691, -0.0486267 , -0.01618596, -0.03156854,\n",
       "         -0.00226738,  0.03907524],\n",
       "        [ 0.04393301,  0.00716614, -0.02564317, -0.00151742,\n",
       "         -0.03443774,  0.00532426, -0.01313865, -0.0231701 ,\n",
       "          0.01492829, -0.02475172],\n",
       "        [ 0.00619547,  0.03634243, -0.03954517, -0.02315207,\n",
       "          0.04450991,  0.02217526, -0.01941693, -0.00722886,\n",
       "          0.04320126,  0.01016213],\n",
       "        [ 0.00841417,  0.03101965, -0.00253873, -0.00284916,\n",
       "          0.03638891,  0.03828231, -0.02591302, -0.0015705 ,\n",
       "          0.00629698, -0.03569233],\n",
       "        [ 0.03042329, -0.04638789,  0.03259953,  0.01570221,\n",
       "          0.00869979, -0.03868207, -0.0205698 ,  0.00545794,\n",
       "          0.03970462,  0.03123852]],\n",
       "\n",
       "       [[-0.03491072, -0.03902986, -0.01752711,  0.04510926,\n",
       "          0.02649695, -0.04145315, -0.00436689, -0.04637349,\n",
       "          0.03674043, -0.02549165],\n",
       "        [-0.03491072, -0.03902986, -0.01752711,  0.04510926,\n",
       "          0.02649695, -0.04145315, -0.00436689, -0.04637349,\n",
       "          0.03674043, -0.02549165],\n",
       "        [-0.03491072, -0.03902986, -0.01752711,  0.04510926,\n",
       "          0.02649695, -0.04145315, -0.00436689, -0.04637349,\n",
       "          0.03674043, -0.02549165],\n",
       "        [-0.02556586,  0.0439504 , -0.00703488, -0.04979176,\n",
       "         -0.03597804, -0.04008849, -0.01138606, -0.02259123,\n",
       "         -0.02635129,  0.03970777],\n",
       "        [ 0.01235573, -0.020302  , -0.00867579, -0.03489566,\n",
       "          0.03038691, -0.0486267 , -0.01618596, -0.03156854,\n",
       "         -0.00226738,  0.03907524],\n",
       "        [ 0.00685813,  0.0483685 , -0.00993846,  0.01751592,\n",
       "         -0.00214733,  0.03635592,  0.00685729,  0.02169679,\n",
       "         -0.00285491,  0.01129587],\n",
       "        [-0.0108902 ,  0.02247479, -0.00323614, -0.01805041,\n",
       "         -0.03308073, -0.01862032,  0.03088242,  0.04414714,\n",
       "          0.04637912,  0.04117538],\n",
       "        [ 0.04666558, -0.01071883,  0.02559606,  0.01564684,\n",
       "         -0.04640321,  0.00597086, -0.0021284 ,  0.01878902,\n",
       "         -0.00598975,  0.02389682]],\n",
       "\n",
       "       [[-0.03491072, -0.03902986, -0.01752711,  0.04510926,\n",
       "          0.02649695, -0.04145315, -0.00436689, -0.04637349,\n",
       "          0.03674043, -0.02549165],\n",
       "        [-0.03491072, -0.03902986, -0.01752711,  0.04510926,\n",
       "          0.02649695, -0.04145315, -0.00436689, -0.04637349,\n",
       "          0.03674043, -0.02549165],\n",
       "        [-0.03491072, -0.03902986, -0.01752711,  0.04510926,\n",
       "          0.02649695, -0.04145315, -0.00436689, -0.04637349,\n",
       "          0.03674043, -0.02549165],\n",
       "        [-0.02556586,  0.0439504 , -0.00703488, -0.04979176,\n",
       "         -0.03597804, -0.04008849, -0.01138606, -0.02259123,\n",
       "         -0.02635129,  0.03970777],\n",
       "        [-0.02015369,  0.04059574, -0.01150824,  0.04552797,\n",
       "         -0.00381541,  0.04347647, -0.04217504,  0.03361205,\n",
       "          0.03881368,  0.03289154],\n",
       "        [ 0.03824133, -0.01751853, -0.01503523, -0.04611392,\n",
       "          0.04620733,  0.04142113, -0.0013829 , -0.00310408,\n",
       "          0.02614728,  0.0378232 ],\n",
       "        [ 0.0339198 , -0.0320447 ,  0.0192233 ,  0.01725766,\n",
       "          0.04738494, -0.0327444 , -0.04170725,  0.00549519,\n",
       "          0.03209995, -0.00443382],\n",
       "        [ 0.03545525,  0.01676843,  0.03709472, -0.00205754,\n",
       "         -0.00038838,  0.00547353, -0.01343908,  0.00253255,\n",
       "         -0.04702556, -0.0022658 ]]], dtype=float32)"
      ]
     },
     "execution_count": 15,
     "metadata": {},
     "output_type": "execute_result"
    }
   ],
   "source": [
    "model.predict(embedded_values)"
   ]
  },
  {
   "cell_type": "code",
   "execution_count": 16,
   "metadata": {},
   "outputs": [
    {
     "data": {
      "text/plain": [
       "array([   0,    0,    0,  103, 6268, 8146, 2536, 1213])"
      ]
     },
     "execution_count": 16,
     "metadata": {},
     "output_type": "execute_result"
    }
   ],
   "source": [
    "embedded_values[0]"
   ]
  },
  {
   "cell_type": "markdown",
   "metadata": {},
   "source": [
    "### Reference Link:\n",
    "https://machinelearningmastery.com/use-word-embedding-layers-deep-learning-keras/"
   ]
  },
  {
   "cell_type": "code",
   "execution_count": null,
   "metadata": {},
   "outputs": [],
   "source": []
  }
 ],
 "metadata": {
  "kernelspec": {
   "display_name": "Python 3",
   "language": "python",
   "name": "python3"
  },
  "language_info": {
   "codemirror_mode": {
    "name": "ipython",
    "version": 3
   },
   "file_extension": ".py",
   "mimetype": "text/x-python",
   "name": "python",
   "nbconvert_exporter": "python",
   "pygments_lexer": "ipython3",
   "version": "3.7.7"
  }
 },
 "nbformat": 4,
 "nbformat_minor": 4
}
